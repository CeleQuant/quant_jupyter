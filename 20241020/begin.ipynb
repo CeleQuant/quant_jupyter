{
 "cells": [
  {
   "metadata": {},
   "cell_type": "markdown",
   "source": [
    "### 新手学量化交易，不执著于理论，重在于实践和总结\n",
    "### 短期目标：  实现一个btcusdt交易策略并实盘（先拿加密货币市场实盘练习）\n",
    "\n",
    "### 1 路线\n",
    "        1.1 量化基础知识\n",
    "        1.2 python基础\n",
    "        1.3 python简单数据分析\n",
    "        1.4 简单策略实现和回测\n",
    "        1.5 策略实盘\n",
    "    \n",
    "量化基础知识暂时略过，参考网上量化金融的基础知识"
   ],
   "id": "3a2f74681ba9ef5a"
  },
  {
   "cell_type": "code",
   "id": "initial_id",
   "metadata": {
    "collapsed": true,
    "ExecuteTime": {
     "end_time": "2024-10-20T04:52:27.550407Z",
     "start_time": "2024-10-20T04:52:27.546862Z"
    }
   },
   "source": [
    "# py快速入门\n",
    "# py安装请参考视频\n",
    "# 一定要手敲代码，看是学不会游泳的\n",
    "# 快速学会一门编程语言，任何编程语言万变不离其宗\n",
    "# 数据类型-->条件控制语句--->函数--->高级封装，如类，闭包，泛型，继承等等\n",
    "\n"
   ],
   "outputs": [],
   "execution_count": 1
  },
  {
   "metadata": {
    "ExecuteTime": {
     "end_time": "2024-10-20T04:52:27.564526Z",
     "start_time": "2024-10-20T04:52:27.560120Z"
    }
   },
   "cell_type": "code",
   "source": [
    "# 数据类型\n",
    "# python变量不需要申明，但是需要赋值\n",
    "# 把int类型的值1 赋给 变量a，任何一个计算机语句（任何一行或一段代码）都可看作赋值语句，思考时可以看出，把一个类型的值赋给一个变量（这个变量可以是多个变量组合体）\n",
    "a = 1\n",
    "\n",
    "#基本函数\n",
    "print(a)  # 打印a\n",
    "print(type(a))  # 打印type(a) 即a的类型 函数为 函数名(参数) 如type(a)\n",
    "# 基本类型：数字（int、float、bool、complex），字符串（String），布尔类型(bool)，列表(List)，元组(Tuple)，集合(Set)，字典(Dict)\n",
    "a = 1.0\n",
    "b = True\n",
    "c = False\n",
    "d = 1 - 1j\n",
    "e = '123'\n",
    "print(a, b, c, d, e)\n",
    "print(type(a), type(b), type(c), type(d), type(e))\n",
    "print(f'a:{a} {type(a)},b:{b} {type(b)},c:{c} {type(c)},d:{d} {type(d)},e:{e} {type(e)}')\n",
    "# 运算  \n",
    "a = 1 + 1.1  # 加\n",
    "print('1+1.1=', a, type(a))\n",
    "a = 1 - 1.1  # 减\n",
    "print('1 - 1.1=', a, type(a))\n",
    "a = 3 * 2  # 乘\n",
    "print('3*2=', a, type(a))\n",
    "a = 3 / 2  # 除 得到浮点数\n",
    "print('3/2=', a, type(a))\n",
    "a = 3 // 2  # 除 得到整数\n",
    "print('3//2=', a, type(a))\n",
    "a = 5 % 2  # 取余数\n",
    "print('5%2=', a, type(a))\n",
    "a = 3 ** 2  # 平方\n",
    "print('3**2=', a, type(a))"
   ],
   "id": "32c0998428cf81e8",
   "outputs": [
    {
     "name": "stdout",
     "output_type": "stream",
     "text": [
      "1\n",
      "<class 'int'>\n",
      "1.0 True False (1-1j) 123\n",
      "<class 'float'> <class 'bool'> <class 'bool'> <class 'complex'> <class 'str'>\n",
      "a:1.0 <class 'float'>,b:True <class 'bool'>,c:False <class 'bool'>,d:(1-1j) <class 'complex'>,e:123 <class 'str'>\n",
      "1+1.1= 2.1 <class 'float'>\n",
      "1 - 1.1= -0.10000000000000009 <class 'float'>\n",
      "3*2= 6 <class 'int'>\n",
      "3/2= 1.5 <class 'float'>\n",
      "3//2= 1 <class 'int'>\n",
      "5%2= 1 <class 'int'>\n",
      "3**2= 9 <class 'int'>\n"
     ]
    }
   ],
   "execution_count": 2
  },
  {
   "metadata": {
    "ExecuteTime": {
     "end_time": "2024-10-20T04:52:27.642071Z",
     "start_time": "2024-10-20T04:52:27.639787Z"
    }
   },
   "cell_type": "code",
   "source": [
    "# str 字符串  重点：字符串定义后不能改变其值,注意索引和切片\n",
    "a = 'abc'  # a = \"abc\" \n",
    "print(a, type(a))\n",
    "# 取索引，即第几个位置的字符,索引顺序左到右边 0 ～ a的长度-1，从右往左  a的长度的负数 ～ -1，索引超出范围会报错\n",
    "print(a[0], a[1], a[2])\n",
    "print(a[-1], a[-2], a[-3])\n",
    "# print(a[3]) 报错\n",
    "#切片  a[:] a[1:] a[:1] a[1:2]\n",
    "print(a[:])\n",
    "print(a[1:])\n",
    "print(a[:2])"
   ],
   "id": "5f633a7b78ffc7ee",
   "outputs": [
    {
     "name": "stdout",
     "output_type": "stream",
     "text": [
      "abc <class 'str'>\n",
      "a b c\n",
      "c b a\n",
      "abc\n",
      "bc\n",
      "ab\n"
     ]
    }
   ],
   "execution_count": 3
  },
  {
   "metadata": {
    "ExecuteTime": {
     "end_time": "2024-10-20T04:52:27.659936Z",
     "start_time": "2024-10-20T04:52:27.657995Z"
    }
   },
   "cell_type": "code",
   "source": [
    "# List 索引和切片和str类似， str可以看成字符的list, list的额外操作方法要用时可以现学现用,list可以放不同类型的元素，但是一般list内部元素类型一致\n",
    "a = [1, 2, 3, 4, 5, 6, 7, 8]\n",
    "print(a)\n",
    "print(a[2:4])"
   ],
   "id": "bcba6e6e1232a6f7",
   "outputs": [
    {
     "name": "stdout",
     "output_type": "stream",
     "text": [
      "[1, 2, 3, 4, 5, 6, 7, 8]\n",
      "[3, 4]\n"
     ]
    }
   ],
   "execution_count": 4
  },
  {
   "metadata": {
    "ExecuteTime": {
     "end_time": "2024-10-20T04:52:27.678051Z",
     "start_time": "2024-10-20T04:52:27.676116Z"
    }
   },
   "cell_type": "code",
   "source": [
    "# 元组 Tuple,和list类似，但是Tuple内部元素不能修改，list的可以\n",
    "a = (1, 1.1, '3', False, True)\n",
    "print(a)\n",
    "print(a[2:4])\n",
    "# a[0] = 123\n",
    "# print(a) 不能修改元组的子元素"
   ],
   "id": "3e391dcf06a1f2f2",
   "outputs": [
    {
     "name": "stdout",
     "output_type": "stream",
     "text": [
      "(1, 1.1, '3', False, True)\n",
      "('3', False)\n"
     ]
    }
   ],
   "execution_count": 5
  },
  {
   "metadata": {
    "ExecuteTime": {
     "end_time": "2024-10-20T04:52:27.686642Z",
     "start_time": "2024-10-20T04:52:27.684812Z"
    }
   },
   "cell_type": "code",
   "source": [
    "# Set 集合 ，集合中元素不能重复\n",
    "set1 = {1, 2, 3, 4, 5, 6, 7, 1}\n",
    "set2 = set([1, 2, 3, 4, 5, 6, 7, 1])\n",
    "print(set1, set2)"
   ],
   "id": "9e4d175af2cc682b",
   "outputs": [
    {
     "name": "stdout",
     "output_type": "stream",
     "text": [
      "{1, 2, 3, 4, 5, 6, 7} {1, 2, 3, 4, 5, 6, 7}\n"
     ]
    }
   ],
   "execution_count": 6
  },
  {
   "metadata": {
    "ExecuteTime": {
     "end_time": "2024-10-20T04:52:27.701818Z",
     "start_time": "2024-10-20T04:52:27.699692Z"
    }
   },
   "cell_type": "code",
   "source": [
    "# 字典 Dict  a = {字符串：值，... }\n",
    "a = {'a': '1', 'b': True, 'c': 1.1}\n",
    "print(a, type(a))\n",
    "# 取值\n",
    "print(a['a'], a['b'], a['c'])"
   ],
   "id": "bf7888541c550972",
   "outputs": [
    {
     "name": "stdout",
     "output_type": "stream",
     "text": [
      "{'a': '1', 'b': True, 'c': 1.1} <class 'dict'>\n",
      "1 True 1.1\n"
     ]
    }
   ],
   "execution_count": 7
  },
  {
   "metadata": {
    "ExecuteTime": {
     "end_time": "2024-10-20T04:52:27.716258Z",
     "start_time": "2024-10-20T04:52:27.713536Z"
    }
   },
   "cell_type": "code",
   "source": [
    "# 条件控制\n",
    "a = 1\n",
    "b = True\n",
    "# \n",
    "print(a and b, a or b, not a, not b)\n",
    "\n",
    "# if else\n",
    "if a == 1:\n",
    "    print('a==1')\n",
    "elif a == 2:\n",
    "    print('a==2')\n",
    "else:\n",
    "    print('a==3')\n",
    "\n",
    "# 三目运算  a = 条件成立后的值 if 条件 else 条件不成立的值\n",
    "a, b = 1, 2  # a = 1 ,b = 2\n",
    "if a > b:\n",
    "    max = a;\n",
    "else:\n",
    "    max = b;\n",
    "print(max)\n",
    "max = a if a > b else b\n",
    "print(max)\n",
    "\n",
    "# while\n",
    "a, b = 1, 2\n",
    "while a < b:\n",
    "    print('a<b')\n",
    "    break #跳出整个循环，continue跳出本次循环直接进入下一次\n",
    "\n",
    "# for in\n",
    "for i in range(0,11):\n",
    "    print(i)\n"
   ],
   "id": "6b27ba7c16e4322b",
   "outputs": [
    {
     "name": "stdout",
     "output_type": "stream",
     "text": [
      "True 1 False False\n",
      "a==1\n",
      "2\n",
      "2\n",
      "a<b\n",
      "0\n",
      "1\n",
      "2\n",
      "3\n",
      "4\n",
      "5\n",
      "6\n",
      "7\n",
      "8\n",
      "9\n",
      "10\n"
     ]
    }
   ],
   "execution_count": 8
  },
  {
   "metadata": {
    "ExecuteTime": {
     "end_time": "2024-10-20T04:52:27.734017Z",
     "start_time": "2024-10-20T04:52:27.731831Z"
    }
   },
   "cell_type": "code",
   "source": [
    "# 函数\n",
    "def funcA():\n",
    "    return 123\n",
    "\n",
    "def funcB(n):\n",
    "    return n\n",
    "\n",
    "a = funcA()\n",
    "print(a,type(a))\n",
    "b = funcB('123')\n",
    "print(b,type(b))\n",
    "\n",
    "# lambda函数  闭包,一般放一行解决\n",
    "fun1 = lambda n: n * 2\n",
    "print(fun1(1))"
   ],
   "id": "ed25ddb217269e7f",
   "outputs": [
    {
     "name": "stdout",
     "output_type": "stream",
     "text": [
      "123 <class 'int'>\n",
      "123 <class 'str'>\n",
      "2\n"
     ]
    }
   ],
   "execution_count": 9
  },
  {
   "metadata": {
    "ExecuteTime": {
     "end_time": "2024-10-20T05:10:32.326759Z",
     "start_time": "2024-10-20T05:10:32.320081Z"
    }
   },
   "cell_type": "code",
   "source": [
    "# 调用库\n",
    "# 比如pandas, 调用并简写为pd\n",
    "import pandas as pd  \n",
    "# 调用具体的\n",
    "from pandas import Series, DataFrame\n",
    "\n",
    "df = pd.read_csv('./begin.csv')\n",
    "#note 里面单行可以不需要print就可以打印\n",
    "print(df)\n",
    "df"
   ],
   "id": "b92981b80fdb4cb2",
   "outputs": [
    {
     "name": "stdout",
     "output_type": "stream",
     "text": [
      "   age  num\n",
      "0   10    5\n",
      "1   12    3\n",
      "2   14    6\n",
      "3   12    8\n"
     ]
    },
    {
     "data": {
      "text/plain": [
       "   age  num\n",
       "0   10    5\n",
       "1   12    3\n",
       "2   14    6\n",
       "3   12    8"
      ],
      "text/html": [
       "<div>\n",
       "<style scoped>\n",
       "    .dataframe tbody tr th:only-of-type {\n",
       "        vertical-align: middle;\n",
       "    }\n",
       "\n",
       "    .dataframe tbody tr th {\n",
       "        vertical-align: top;\n",
       "    }\n",
       "\n",
       "    .dataframe thead th {\n",
       "        text-align: right;\n",
       "    }\n",
       "</style>\n",
       "<table border=\"1\" class=\"dataframe\">\n",
       "  <thead>\n",
       "    <tr style=\"text-align: right;\">\n",
       "      <th></th>\n",
       "      <th>age</th>\n",
       "      <th>num</th>\n",
       "    </tr>\n",
       "  </thead>\n",
       "  <tbody>\n",
       "    <tr>\n",
       "      <th>0</th>\n",
       "      <td>10</td>\n",
       "      <td>5</td>\n",
       "    </tr>\n",
       "    <tr>\n",
       "      <th>1</th>\n",
       "      <td>12</td>\n",
       "      <td>3</td>\n",
       "    </tr>\n",
       "    <tr>\n",
       "      <th>2</th>\n",
       "      <td>14</td>\n",
       "      <td>6</td>\n",
       "    </tr>\n",
       "    <tr>\n",
       "      <th>3</th>\n",
       "      <td>12</td>\n",
       "      <td>8</td>\n",
       "    </tr>\n",
       "  </tbody>\n",
       "</table>\n",
       "</div>"
      ]
     },
     "execution_count": 13,
     "metadata": {},
     "output_type": "execute_result"
    }
   ],
   "execution_count": 13
  },
  {
   "metadata": {
    "ExecuteTime": {
     "end_time": "2024-10-20T04:52:28.085730Z",
     "start_time": "2024-10-20T04:52:28.083137Z"
    }
   },
   "cell_type": "code",
   "source": "df['age']",
   "id": "777bfbf1ab70be27",
   "outputs": [
    {
     "data": {
      "text/plain": [
       "0    10\n",
       "1    12\n",
       "2    14\n",
       "3    12\n",
       "Name: age, dtype: int64"
      ]
     },
     "execution_count": 11,
     "metadata": {},
     "output_type": "execute_result"
    }
   ],
   "execution_count": 11
  },
  {
   "metadata": {
    "ExecuteTime": {
     "end_time": "2024-10-20T04:52:28.108725Z",
     "start_time": "2024-10-20T04:52:28.105836Z"
    }
   },
   "cell_type": "code",
   "source": "df['num']",
   "id": "50a01ae97037ce2e",
   "outputs": [
    {
     "data": {
      "text/plain": [
       "0    5\n",
       "1    3\n",
       "2    6\n",
       "3    8\n",
       "Name: num, dtype: int64"
      ]
     },
     "execution_count": 12,
     "metadata": {},
     "output_type": "execute_result"
    }
   ],
   "execution_count": 12
  },
  {
   "metadata": {
    "ExecuteTime": {
     "end_time": "2024-10-20T04:52:28.146462Z",
     "start_time": "2024-10-20T04:52:28.144964Z"
    }
   },
   "cell_type": "code",
   "source": "",
   "id": "d51c21b0cc515cdc",
   "outputs": [],
   "execution_count": null
  }
 ],
 "metadata": {
  "kernelspec": {
   "display_name": "Python 3",
   "language": "python",
   "name": "python3"
  },
  "language_info": {
   "codemirror_mode": {
    "name": "ipython",
    "version": 2
   },
   "file_extension": ".py",
   "mimetype": "text/x-python",
   "name": "python",
   "nbconvert_exporter": "python",
   "pygments_lexer": "ipython2",
   "version": "2.7.6"
  }
 },
 "nbformat": 4,
 "nbformat_minor": 5
}
