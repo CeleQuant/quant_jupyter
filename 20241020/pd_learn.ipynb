{
 "cells": [
  {
   "cell_type": "code",
   "id": "initial_id",
   "metadata": {
    "collapsed": true,
    "ExecuteTime": {
     "end_time": "2024-10-20T12:09:49.468366Z",
     "start_time": "2024-10-20T12:09:49.465118Z"
    }
   },
   "source": [
    "import pandas as pd\n",
    "import numpy as np\n",
    "import matplotlib.pyplot as plt\n",
    "\n",
    "import warnings\n",
    "\n",
    "warnings.filterwarnings('ignore')\n",
    "\n",
    "#pd设置打印宽度，为了不换行显示\n",
    "pd.set_option('display.width', 1000)"
   ],
   "outputs": [],
   "execution_count": 32
  },
  {
   "metadata": {
    "ExecuteTime": {
     "end_time": "2024-10-20T12:09:50.371616Z",
     "start_time": "2024-10-20T12:09:49.485372Z"
    }
   },
   "cell_type": "code",
   "source": [
    "# symbol,datetime,open,high,low,close,volume,end_time,amount,count,buy_amount,buy_volume\n",
    "# 请先下载BTCUSDT.csv,放到本文件所在目录下 google云盘地址  https://drive.google.com/file/d/1R7Hfb6KeJ7T3w98YfKQNv13g_QYeHVRF/view?usp=sharing\n",
    "df = pd.read_csv('./BTCUSDT.csv', parse_dates=['datetime'])\n",
    "df"
   ],
   "id": "1f31ee33f4b04adc",
   "outputs": [
    {
     "data": {
      "text/plain": [
       "         symbol            datetime      open      high       low     close     volume      end_time        amount   count  buy_amount    buy_volume\n",
       "0       BTCUSDT 2023-01-01 00:00:00  16590.10  16596.97  16590.10  16595.81  137.22138  1.672502e+12  2.277073e+06  2960.0    78.06546  1.295427e+06\n",
       "1       BTCUSDT 2023-01-01 00:01:00  16596.09  16597.31  16593.10  16596.20   94.84752  1.672503e+12  1.574019e+06  2108.0    47.79675  7.932087e+05\n",
       "2       BTCUSDT 2023-01-01 00:02:00  16596.58  16597.77  16595.22  16596.62   93.61909  1.672503e+12  1.553757e+06  1835.0    58.00708  9.627263e+05\n",
       "3       BTCUSDT 2023-01-01 00:03:00  16596.62  16597.06  16591.89  16592.96   58.01671  1.672503e+12  9.627503e+05  2007.0    27.81212  4.615290e+05\n",
       "4       BTCUSDT 2023-01-01 00:04:00  16592.96  16593.36  16591.20  16591.91   46.57669  1.672503e+12  7.728188e+05  1803.0    22.81419  3.785432e+05\n",
       "...         ...                 ...       ...       ...       ...       ...        ...           ...           ...     ...         ...           ...\n",
       "921074  BTCUSDT 2024-10-01 16:34:00  63996.19  64003.26  63974.00  63974.01   64.91025  1.727772e+12  4.153376e+06  2201.0    48.15531  3.081207e+06\n",
       "921075  BTCUSDT 2024-10-01 16:35:00  63974.01  63974.01  63956.00  63967.99   11.91943  1.727772e+12  7.623644e+05  1278.0     8.72609  5.581002e+05\n",
       "921076  BTCUSDT 2024-10-01 16:36:00  63968.00  63978.52  63967.99  63976.01    4.32433  1.727772e+12  2.766376e+05  1516.0     2.85449  1.826031e+05\n",
       "921077  BTCUSDT 2024-10-01 16:37:00  63976.02  63976.02  63965.11  63966.01    7.41094  1.727772e+12  4.740758e+05   563.0     0.22131  1.415713e+04\n",
       "921078  BTCUSDT 2024-10-01 16:38:00  63966.01  63980.00  63958.00  63958.00   26.62013  1.727772e+12  1.702886e+06  1625.0    16.12930  1.031746e+06\n",
       "\n",
       "[921079 rows x 12 columns]"
      ],
      "text/html": [
       "<div>\n",
       "<style scoped>\n",
       "    .dataframe tbody tr th:only-of-type {\n",
       "        vertical-align: middle;\n",
       "    }\n",
       "\n",
       "    .dataframe tbody tr th {\n",
       "        vertical-align: top;\n",
       "    }\n",
       "\n",
       "    .dataframe thead th {\n",
       "        text-align: right;\n",
       "    }\n",
       "</style>\n",
       "<table border=\"1\" class=\"dataframe\">\n",
       "  <thead>\n",
       "    <tr style=\"text-align: right;\">\n",
       "      <th></th>\n",
       "      <th>symbol</th>\n",
       "      <th>datetime</th>\n",
       "      <th>open</th>\n",
       "      <th>high</th>\n",
       "      <th>low</th>\n",
       "      <th>close</th>\n",
       "      <th>volume</th>\n",
       "      <th>end_time</th>\n",
       "      <th>amount</th>\n",
       "      <th>count</th>\n",
       "      <th>buy_amount</th>\n",
       "      <th>buy_volume</th>\n",
       "    </tr>\n",
       "  </thead>\n",
       "  <tbody>\n",
       "    <tr>\n",
       "      <th>0</th>\n",
       "      <td>BTCUSDT</td>\n",
       "      <td>2023-01-01 00:00:00</td>\n",
       "      <td>16590.10</td>\n",
       "      <td>16596.97</td>\n",
       "      <td>16590.10</td>\n",
       "      <td>16595.81</td>\n",
       "      <td>137.22138</td>\n",
       "      <td>1.672502e+12</td>\n",
       "      <td>2.277073e+06</td>\n",
       "      <td>2960.0</td>\n",
       "      <td>78.06546</td>\n",
       "      <td>1.295427e+06</td>\n",
       "    </tr>\n",
       "    <tr>\n",
       "      <th>1</th>\n",
       "      <td>BTCUSDT</td>\n",
       "      <td>2023-01-01 00:01:00</td>\n",
       "      <td>16596.09</td>\n",
       "      <td>16597.31</td>\n",
       "      <td>16593.10</td>\n",
       "      <td>16596.20</td>\n",
       "      <td>94.84752</td>\n",
       "      <td>1.672503e+12</td>\n",
       "      <td>1.574019e+06</td>\n",
       "      <td>2108.0</td>\n",
       "      <td>47.79675</td>\n",
       "      <td>7.932087e+05</td>\n",
       "    </tr>\n",
       "    <tr>\n",
       "      <th>2</th>\n",
       "      <td>BTCUSDT</td>\n",
       "      <td>2023-01-01 00:02:00</td>\n",
       "      <td>16596.58</td>\n",
       "      <td>16597.77</td>\n",
       "      <td>16595.22</td>\n",
       "      <td>16596.62</td>\n",
       "      <td>93.61909</td>\n",
       "      <td>1.672503e+12</td>\n",
       "      <td>1.553757e+06</td>\n",
       "      <td>1835.0</td>\n",
       "      <td>58.00708</td>\n",
       "      <td>9.627263e+05</td>\n",
       "    </tr>\n",
       "    <tr>\n",
       "      <th>3</th>\n",
       "      <td>BTCUSDT</td>\n",
       "      <td>2023-01-01 00:03:00</td>\n",
       "      <td>16596.62</td>\n",
       "      <td>16597.06</td>\n",
       "      <td>16591.89</td>\n",
       "      <td>16592.96</td>\n",
       "      <td>58.01671</td>\n",
       "      <td>1.672503e+12</td>\n",
       "      <td>9.627503e+05</td>\n",
       "      <td>2007.0</td>\n",
       "      <td>27.81212</td>\n",
       "      <td>4.615290e+05</td>\n",
       "    </tr>\n",
       "    <tr>\n",
       "      <th>4</th>\n",
       "      <td>BTCUSDT</td>\n",
       "      <td>2023-01-01 00:04:00</td>\n",
       "      <td>16592.96</td>\n",
       "      <td>16593.36</td>\n",
       "      <td>16591.20</td>\n",
       "      <td>16591.91</td>\n",
       "      <td>46.57669</td>\n",
       "      <td>1.672503e+12</td>\n",
       "      <td>7.728188e+05</td>\n",
       "      <td>1803.0</td>\n",
       "      <td>22.81419</td>\n",
       "      <td>3.785432e+05</td>\n",
       "    </tr>\n",
       "    <tr>\n",
       "      <th>...</th>\n",
       "      <td>...</td>\n",
       "      <td>...</td>\n",
       "      <td>...</td>\n",
       "      <td>...</td>\n",
       "      <td>...</td>\n",
       "      <td>...</td>\n",
       "      <td>...</td>\n",
       "      <td>...</td>\n",
       "      <td>...</td>\n",
       "      <td>...</td>\n",
       "      <td>...</td>\n",
       "      <td>...</td>\n",
       "    </tr>\n",
       "    <tr>\n",
       "      <th>921074</th>\n",
       "      <td>BTCUSDT</td>\n",
       "      <td>2024-10-01 16:34:00</td>\n",
       "      <td>63996.19</td>\n",
       "      <td>64003.26</td>\n",
       "      <td>63974.00</td>\n",
       "      <td>63974.01</td>\n",
       "      <td>64.91025</td>\n",
       "      <td>1.727772e+12</td>\n",
       "      <td>4.153376e+06</td>\n",
       "      <td>2201.0</td>\n",
       "      <td>48.15531</td>\n",
       "      <td>3.081207e+06</td>\n",
       "    </tr>\n",
       "    <tr>\n",
       "      <th>921075</th>\n",
       "      <td>BTCUSDT</td>\n",
       "      <td>2024-10-01 16:35:00</td>\n",
       "      <td>63974.01</td>\n",
       "      <td>63974.01</td>\n",
       "      <td>63956.00</td>\n",
       "      <td>63967.99</td>\n",
       "      <td>11.91943</td>\n",
       "      <td>1.727772e+12</td>\n",
       "      <td>7.623644e+05</td>\n",
       "      <td>1278.0</td>\n",
       "      <td>8.72609</td>\n",
       "      <td>5.581002e+05</td>\n",
       "    </tr>\n",
       "    <tr>\n",
       "      <th>921076</th>\n",
       "      <td>BTCUSDT</td>\n",
       "      <td>2024-10-01 16:36:00</td>\n",
       "      <td>63968.00</td>\n",
       "      <td>63978.52</td>\n",
       "      <td>63967.99</td>\n",
       "      <td>63976.01</td>\n",
       "      <td>4.32433</td>\n",
       "      <td>1.727772e+12</td>\n",
       "      <td>2.766376e+05</td>\n",
       "      <td>1516.0</td>\n",
       "      <td>2.85449</td>\n",
       "      <td>1.826031e+05</td>\n",
       "    </tr>\n",
       "    <tr>\n",
       "      <th>921077</th>\n",
       "      <td>BTCUSDT</td>\n",
       "      <td>2024-10-01 16:37:00</td>\n",
       "      <td>63976.02</td>\n",
       "      <td>63976.02</td>\n",
       "      <td>63965.11</td>\n",
       "      <td>63966.01</td>\n",
       "      <td>7.41094</td>\n",
       "      <td>1.727772e+12</td>\n",
       "      <td>4.740758e+05</td>\n",
       "      <td>563.0</td>\n",
       "      <td>0.22131</td>\n",
       "      <td>1.415713e+04</td>\n",
       "    </tr>\n",
       "    <tr>\n",
       "      <th>921078</th>\n",
       "      <td>BTCUSDT</td>\n",
       "      <td>2024-10-01 16:38:00</td>\n",
       "      <td>63966.01</td>\n",
       "      <td>63980.00</td>\n",
       "      <td>63958.00</td>\n",
       "      <td>63958.00</td>\n",
       "      <td>26.62013</td>\n",
       "      <td>1.727772e+12</td>\n",
       "      <td>1.702886e+06</td>\n",
       "      <td>1625.0</td>\n",
       "      <td>16.12930</td>\n",
       "      <td>1.031746e+06</td>\n",
       "    </tr>\n",
       "  </tbody>\n",
       "</table>\n",
       "<p>921079 rows × 12 columns</p>\n",
       "</div>"
      ]
     },
     "execution_count": 33,
     "metadata": {},
     "output_type": "execute_result"
    }
   ],
   "execution_count": 33
  },
  {
   "metadata": {
    "ExecuteTime": {
     "end_time": "2024-10-20T12:09:50.400930Z",
     "start_time": "2024-10-20T12:09:50.394537Z"
    }
   },
   "cell_type": "code",
   "source": [
    "print(df.head(10))\n",
    "print(df.tail(6))"
   ],
   "id": "11f0bf0b7bc5565e",
   "outputs": [
    {
     "name": "stdout",
     "output_type": "stream",
     "text": [
      "    symbol            datetime      open      high       low     close     volume      end_time        amount   count  buy_amount    buy_volume\n",
      "0  BTCUSDT 2023-01-01 00:00:00  16590.10  16596.97  16590.10  16595.81  137.22138  1.672502e+12  2.277073e+06  2960.0    78.06546  1.295427e+06\n",
      "1  BTCUSDT 2023-01-01 00:01:00  16596.09  16597.31  16593.10  16596.20   94.84752  1.672503e+12  1.574019e+06  2108.0    47.79675  7.932087e+05\n",
      "2  BTCUSDT 2023-01-01 00:02:00  16596.58  16597.77  16595.22  16596.62   93.61909  1.672503e+12  1.553757e+06  1835.0    58.00708  9.627263e+05\n",
      "3  BTCUSDT 2023-01-01 00:03:00  16596.62  16597.06  16591.89  16592.96   58.01671  1.672503e+12  9.627503e+05  2007.0    27.81212  4.615290e+05\n",
      "4  BTCUSDT 2023-01-01 00:04:00  16592.96  16593.36  16591.20  16591.91   46.57669  1.672503e+12  7.728188e+05  1803.0    22.81419  3.785432e+05\n",
      "5  BTCUSDT 2023-01-01 00:05:00  16591.91  16593.10  16591.09  16591.93   37.37979  1.672503e+12  6.202092e+05  1596.0    16.82158  2.791079e+05\n",
      "6  BTCUSDT 2023-01-01 00:06:00  16591.47  16595.98  16591.10  16591.96   84.18064  1.672503e+12  1.396807e+06  2629.0    43.14523  7.159222e+05\n",
      "7  BTCUSDT 2023-01-01 00:07:00  16591.83  16593.82  16591.34  16592.51   40.84737  1.672503e+12  6.777620e+05  1556.0    27.71715  4.599021e+05\n",
      "8  BTCUSDT 2023-01-01 00:08:00  16592.86  16593.51  16592.01  16592.94   31.27016  1.672503e+12  5.188578e+05  1339.0    15.62494  2.592633e+05\n",
      "9  BTCUSDT 2023-01-01 00:09:00  16592.94  16593.98  16592.41  16592.91   37.07477  1.672503e+12  6.151926e+05  1446.0    19.96934  3.313605e+05\n",
      "         symbol            datetime      open      high       low     close    volume      end_time        amount   count  buy_amount    buy_volume\n",
      "921073  BTCUSDT 2024-10-01 16:33:00  63986.24  63999.11  63986.23  63996.19  70.50393  1.727772e+12  4.511954e+06   788.0    64.46208  4.125301e+06\n",
      "921074  BTCUSDT 2024-10-01 16:34:00  63996.19  64003.26  63974.00  63974.01  64.91025  1.727772e+12  4.153376e+06  2201.0    48.15531  3.081207e+06\n",
      "921075  BTCUSDT 2024-10-01 16:35:00  63974.01  63974.01  63956.00  63967.99  11.91943  1.727772e+12  7.623644e+05  1278.0     8.72609  5.581002e+05\n",
      "921076  BTCUSDT 2024-10-01 16:36:00  63968.00  63978.52  63967.99  63976.01   4.32433  1.727772e+12  2.766376e+05  1516.0     2.85449  1.826031e+05\n",
      "921077  BTCUSDT 2024-10-01 16:37:00  63976.02  63976.02  63965.11  63966.01   7.41094  1.727772e+12  4.740758e+05   563.0     0.22131  1.415713e+04\n",
      "921078  BTCUSDT 2024-10-01 16:38:00  63966.01  63980.00  63958.00  63958.00  26.62013  1.727772e+12  1.702886e+06  1625.0    16.12930  1.031746e+06\n"
     ]
    }
   ],
   "execution_count": 34
  },
  {
   "metadata": {
    "ExecuteTime": {
     "end_time": "2024-10-20T12:09:50.495520Z",
     "start_time": "2024-10-20T12:09:50.493036Z"
    }
   },
   "cell_type": "code",
   "source": [
    "# 获取列\n",
    "close = df['close']\n",
    "print(type(close))\n",
    "print(close)"
   ],
   "id": "82290f34f1299944",
   "outputs": [
    {
     "name": "stdout",
     "output_type": "stream",
     "text": [
      "<class 'pandas.core.series.Series'>\n",
      "0         16595.81\n",
      "1         16596.20\n",
      "2         16596.62\n",
      "3         16592.96\n",
      "4         16591.91\n",
      "            ...   \n",
      "921074    63974.01\n",
      "921075    63967.99\n",
      "921076    63976.01\n",
      "921077    63966.01\n",
      "921078    63958.00\n",
      "Name: close, Length: 921079, dtype: float64\n"
     ]
    }
   ],
   "execution_count": 35
  },
  {
   "metadata": {
    "ExecuteTime": {
     "end_time": "2024-10-20T12:09:50.570379Z",
     "start_time": "2024-10-20T12:09:50.567497Z"
    }
   },
   "cell_type": "code",
   "source": [
    "# 列对象 Series\n",
    "s0 = pd.Series([1, 3, 5, 7, 9])\n",
    "s0"
   ],
   "id": "980779e5372ae697",
   "outputs": [
    {
     "data": {
      "text/plain": [
       "0    1\n",
       "1    3\n",
       "2    5\n",
       "3    7\n",
       "4    9\n",
       "dtype: int64"
      ]
     },
     "execution_count": 36,
     "metadata": {},
     "output_type": "execute_result"
    }
   ],
   "execution_count": 36
  },
  {
   "metadata": {
    "ExecuteTime": {
     "end_time": "2024-10-20T12:09:50.633086Z",
     "start_time": "2024-10-20T12:09:50.628962Z"
    }
   },
   "cell_type": "code",
   "source": [
    "# Series 构成DataFrame\n",
    "df1 = pd.DataFrame({\n",
    "    's0': pd.Series([1, 5, 3, 7, 9]),\n",
    "    's1': pd.Series([1.1, 1.8, 1.3, 1.4, 1.5]),\n",
    "})\n",
    "print(df1.dtypes)\n",
    "df1"
   ],
   "id": "8c3cee9766b3d0e0",
   "outputs": [
    {
     "name": "stdout",
     "output_type": "stream",
     "text": [
      "s0      int64\n",
      "s1    float64\n",
      "dtype: object\n"
     ]
    },
    {
     "data": {
      "text/plain": [
       "   s0   s1\n",
       "0   1  1.1\n",
       "1   5  1.8\n",
       "2   3  1.3\n",
       "3   7  1.4\n",
       "4   9  1.5"
      ],
      "text/html": [
       "<div>\n",
       "<style scoped>\n",
       "    .dataframe tbody tr th:only-of-type {\n",
       "        vertical-align: middle;\n",
       "    }\n",
       "\n",
       "    .dataframe tbody tr th {\n",
       "        vertical-align: top;\n",
       "    }\n",
       "\n",
       "    .dataframe thead th {\n",
       "        text-align: right;\n",
       "    }\n",
       "</style>\n",
       "<table border=\"1\" class=\"dataframe\">\n",
       "  <thead>\n",
       "    <tr style=\"text-align: right;\">\n",
       "      <th></th>\n",
       "      <th>s0</th>\n",
       "      <th>s1</th>\n",
       "    </tr>\n",
       "  </thead>\n",
       "  <tbody>\n",
       "    <tr>\n",
       "      <th>0</th>\n",
       "      <td>1</td>\n",
       "      <td>1.1</td>\n",
       "    </tr>\n",
       "    <tr>\n",
       "      <th>1</th>\n",
       "      <td>5</td>\n",
       "      <td>1.8</td>\n",
       "    </tr>\n",
       "    <tr>\n",
       "      <th>2</th>\n",
       "      <td>3</td>\n",
       "      <td>1.3</td>\n",
       "    </tr>\n",
       "    <tr>\n",
       "      <th>3</th>\n",
       "      <td>7</td>\n",
       "      <td>1.4</td>\n",
       "    </tr>\n",
       "    <tr>\n",
       "      <th>4</th>\n",
       "      <td>9</td>\n",
       "      <td>1.5</td>\n",
       "    </tr>\n",
       "  </tbody>\n",
       "</table>\n",
       "</div>"
      ]
     },
     "execution_count": 37,
     "metadata": {},
     "output_type": "execute_result"
    }
   ],
   "execution_count": 37
  },
  {
   "metadata": {
    "ExecuteTime": {
     "end_time": "2024-10-20T12:09:50.677079Z",
     "start_time": "2024-10-20T12:09:50.674997Z"
    }
   },
   "cell_type": "code",
   "source": "print(df1.to_numpy())",
   "id": "871212d9573811a8",
   "outputs": [
    {
     "name": "stdout",
     "output_type": "stream",
     "text": [
      "[[1.  1.1]\n",
      " [5.  1.8]\n",
      " [3.  1.3]\n",
      " [7.  1.4]\n",
      " [9.  1.5]]\n"
     ]
    }
   ],
   "execution_count": 38
  },
  {
   "metadata": {
    "ExecuteTime": {
     "end_time": "2024-10-20T12:09:50.719048Z",
     "start_time": "2024-10-20T12:09:50.714522Z"
    }
   },
   "cell_type": "code",
   "source": "df1.describe()",
   "id": "c86c02074dddd44e",
   "outputs": [
    {
     "data": {
      "text/plain": [
       "             s0        s1\n",
       "count  5.000000  5.000000\n",
       "mean   5.000000  1.420000\n",
       "std    3.162278  0.258844\n",
       "min    1.000000  1.100000\n",
       "25%    3.000000  1.300000\n",
       "50%    5.000000  1.400000\n",
       "75%    7.000000  1.500000\n",
       "max    9.000000  1.800000"
      ],
      "text/html": [
       "<div>\n",
       "<style scoped>\n",
       "    .dataframe tbody tr th:only-of-type {\n",
       "        vertical-align: middle;\n",
       "    }\n",
       "\n",
       "    .dataframe tbody tr th {\n",
       "        vertical-align: top;\n",
       "    }\n",
       "\n",
       "    .dataframe thead th {\n",
       "        text-align: right;\n",
       "    }\n",
       "</style>\n",
       "<table border=\"1\" class=\"dataframe\">\n",
       "  <thead>\n",
       "    <tr style=\"text-align: right;\">\n",
       "      <th></th>\n",
       "      <th>s0</th>\n",
       "      <th>s1</th>\n",
       "    </tr>\n",
       "  </thead>\n",
       "  <tbody>\n",
       "    <tr>\n",
       "      <th>count</th>\n",
       "      <td>5.000000</td>\n",
       "      <td>5.000000</td>\n",
       "    </tr>\n",
       "    <tr>\n",
       "      <th>mean</th>\n",
       "      <td>5.000000</td>\n",
       "      <td>1.420000</td>\n",
       "    </tr>\n",
       "    <tr>\n",
       "      <th>std</th>\n",
       "      <td>3.162278</td>\n",
       "      <td>0.258844</td>\n",
       "    </tr>\n",
       "    <tr>\n",
       "      <th>min</th>\n",
       "      <td>1.000000</td>\n",
       "      <td>1.100000</td>\n",
       "    </tr>\n",
       "    <tr>\n",
       "      <th>25%</th>\n",
       "      <td>3.000000</td>\n",
       "      <td>1.300000</td>\n",
       "    </tr>\n",
       "    <tr>\n",
       "      <th>50%</th>\n",
       "      <td>5.000000</td>\n",
       "      <td>1.400000</td>\n",
       "    </tr>\n",
       "    <tr>\n",
       "      <th>75%</th>\n",
       "      <td>7.000000</td>\n",
       "      <td>1.500000</td>\n",
       "    </tr>\n",
       "    <tr>\n",
       "      <th>max</th>\n",
       "      <td>9.000000</td>\n",
       "      <td>1.800000</td>\n",
       "    </tr>\n",
       "  </tbody>\n",
       "</table>\n",
       "</div>"
      ]
     },
     "execution_count": 39,
     "metadata": {},
     "output_type": "execute_result"
    }
   ],
   "execution_count": 39
  },
  {
   "metadata": {
    "ExecuteTime": {
     "end_time": "2024-10-20T12:09:50.759781Z",
     "start_time": "2024-10-20T12:09:50.755652Z"
    }
   },
   "cell_type": "code",
   "source": [
    "#转置\n",
    "df1.T"
   ],
   "id": "683ff1df3d13d432",
   "outputs": [
    {
     "data": {
      "text/plain": [
       "      0    1    2    3    4\n",
       "s0  1.0  5.0  3.0  7.0  9.0\n",
       "s1  1.1  1.8  1.3  1.4  1.5"
      ],
      "text/html": [
       "<div>\n",
       "<style scoped>\n",
       "    .dataframe tbody tr th:only-of-type {\n",
       "        vertical-align: middle;\n",
       "    }\n",
       "\n",
       "    .dataframe tbody tr th {\n",
       "        vertical-align: top;\n",
       "    }\n",
       "\n",
       "    .dataframe thead th {\n",
       "        text-align: right;\n",
       "    }\n",
       "</style>\n",
       "<table border=\"1\" class=\"dataframe\">\n",
       "  <thead>\n",
       "    <tr style=\"text-align: right;\">\n",
       "      <th></th>\n",
       "      <th>0</th>\n",
       "      <th>1</th>\n",
       "      <th>2</th>\n",
       "      <th>3</th>\n",
       "      <th>4</th>\n",
       "    </tr>\n",
       "  </thead>\n",
       "  <tbody>\n",
       "    <tr>\n",
       "      <th>s0</th>\n",
       "      <td>1.0</td>\n",
       "      <td>5.0</td>\n",
       "      <td>3.0</td>\n",
       "      <td>7.0</td>\n",
       "      <td>9.0</td>\n",
       "    </tr>\n",
       "    <tr>\n",
       "      <th>s1</th>\n",
       "      <td>1.1</td>\n",
       "      <td>1.8</td>\n",
       "      <td>1.3</td>\n",
       "      <td>1.4</td>\n",
       "      <td>1.5</td>\n",
       "    </tr>\n",
       "  </tbody>\n",
       "</table>\n",
       "</div>"
      ]
     },
     "execution_count": 40,
     "metadata": {},
     "output_type": "execute_result"
    }
   ],
   "execution_count": 40
  },
  {
   "metadata": {
    "ExecuteTime": {
     "end_time": "2024-10-20T12:09:50.798780Z",
     "start_time": "2024-10-20T12:09:50.795342Z"
    }
   },
   "cell_type": "code",
   "source": [
    "#按照索引排序 \n",
    "df1.sort_index(axis=0, ascending=False)"
   ],
   "id": "4c65ee6217d1750e",
   "outputs": [
    {
     "data": {
      "text/plain": [
       "   s0   s1\n",
       "4   9  1.5\n",
       "3   7  1.4\n",
       "2   3  1.3\n",
       "1   5  1.8\n",
       "0   1  1.1"
      ],
      "text/html": [
       "<div>\n",
       "<style scoped>\n",
       "    .dataframe tbody tr th:only-of-type {\n",
       "        vertical-align: middle;\n",
       "    }\n",
       "\n",
       "    .dataframe tbody tr th {\n",
       "        vertical-align: top;\n",
       "    }\n",
       "\n",
       "    .dataframe thead th {\n",
       "        text-align: right;\n",
       "    }\n",
       "</style>\n",
       "<table border=\"1\" class=\"dataframe\">\n",
       "  <thead>\n",
       "    <tr style=\"text-align: right;\">\n",
       "      <th></th>\n",
       "      <th>s0</th>\n",
       "      <th>s1</th>\n",
       "    </tr>\n",
       "  </thead>\n",
       "  <tbody>\n",
       "    <tr>\n",
       "      <th>4</th>\n",
       "      <td>9</td>\n",
       "      <td>1.5</td>\n",
       "    </tr>\n",
       "    <tr>\n",
       "      <th>3</th>\n",
       "      <td>7</td>\n",
       "      <td>1.4</td>\n",
       "    </tr>\n",
       "    <tr>\n",
       "      <th>2</th>\n",
       "      <td>3</td>\n",
       "      <td>1.3</td>\n",
       "    </tr>\n",
       "    <tr>\n",
       "      <th>1</th>\n",
       "      <td>5</td>\n",
       "      <td>1.8</td>\n",
       "    </tr>\n",
       "    <tr>\n",
       "      <th>0</th>\n",
       "      <td>1</td>\n",
       "      <td>1.1</td>\n",
       "    </tr>\n",
       "  </tbody>\n",
       "</table>\n",
       "</div>"
      ]
     },
     "execution_count": 41,
     "metadata": {},
     "output_type": "execute_result"
    }
   ],
   "execution_count": 41
  },
  {
   "metadata": {
    "ExecuteTime": {
     "end_time": "2024-10-20T12:09:50.852192Z",
     "start_time": "2024-10-20T12:09:50.848634Z"
    }
   },
   "cell_type": "code",
   "source": [
    "# 按照值排序\n",
    "df1.sort_values('s1')"
   ],
   "id": "6ff6609358714b02",
   "outputs": [
    {
     "data": {
      "text/plain": [
       "   s0   s1\n",
       "0   1  1.1\n",
       "2   3  1.3\n",
       "3   7  1.4\n",
       "4   9  1.5\n",
       "1   5  1.8"
      ],
      "text/html": [
       "<div>\n",
       "<style scoped>\n",
       "    .dataframe tbody tr th:only-of-type {\n",
       "        vertical-align: middle;\n",
       "    }\n",
       "\n",
       "    .dataframe tbody tr th {\n",
       "        vertical-align: top;\n",
       "    }\n",
       "\n",
       "    .dataframe thead th {\n",
       "        text-align: right;\n",
       "    }\n",
       "</style>\n",
       "<table border=\"1\" class=\"dataframe\">\n",
       "  <thead>\n",
       "    <tr style=\"text-align: right;\">\n",
       "      <th></th>\n",
       "      <th>s0</th>\n",
       "      <th>s1</th>\n",
       "    </tr>\n",
       "  </thead>\n",
       "  <tbody>\n",
       "    <tr>\n",
       "      <th>0</th>\n",
       "      <td>1</td>\n",
       "      <td>1.1</td>\n",
       "    </tr>\n",
       "    <tr>\n",
       "      <th>2</th>\n",
       "      <td>3</td>\n",
       "      <td>1.3</td>\n",
       "    </tr>\n",
       "    <tr>\n",
       "      <th>3</th>\n",
       "      <td>7</td>\n",
       "      <td>1.4</td>\n",
       "    </tr>\n",
       "    <tr>\n",
       "      <th>4</th>\n",
       "      <td>9</td>\n",
       "      <td>1.5</td>\n",
       "    </tr>\n",
       "    <tr>\n",
       "      <th>1</th>\n",
       "      <td>5</td>\n",
       "      <td>1.8</td>\n",
       "    </tr>\n",
       "  </tbody>\n",
       "</table>\n",
       "</div>"
      ]
     },
     "execution_count": 42,
     "metadata": {},
     "output_type": "execute_result"
    }
   ],
   "execution_count": 42
  },
  {
   "metadata": {
    "ExecuteTime": {
     "end_time": "2024-10-20T12:09:50.902007Z",
     "start_time": "2024-10-20T12:09:50.898579Z"
    }
   },
   "cell_type": "code",
   "source": [
    "#选择行数据,切片\n",
    "print(df1[:])\n",
    "print(df1[0:2])\n",
    "# print(df1[1]) 要使用切片，不能单个数字\n",
    "print(df1[0:2][0:1])  #切片的切片还是同一类型的切片\n",
    "print(df1[0:1]['s0'].values[0])  #取具体的值 "
   ],
   "id": "729d2bdf48332a15",
   "outputs": [
    {
     "name": "stdout",
     "output_type": "stream",
     "text": [
      "   s0   s1\n",
      "0   1  1.1\n",
      "1   5  1.8\n",
      "2   3  1.3\n",
      "3   7  1.4\n",
      "4   9  1.5\n",
      "   s0   s1\n",
      "0   1  1.1\n",
      "1   5  1.8\n",
      "   s0   s1\n",
      "0   1  1.1\n",
      "1\n"
     ]
    }
   ],
   "execution_count": 43
  },
  {
   "metadata": {
    "ExecuteTime": {
     "end_time": "2024-10-20T12:09:50.935663Z",
     "start_time": "2024-10-20T12:09:50.933033Z"
    }
   },
   "cell_type": "code",
   "source": "df1.loc[0]  #取第i行，从0算起",
   "id": "3e7713f654f514c5",
   "outputs": [
    {
     "data": {
      "text/plain": [
       "s0    1.0\n",
       "s1    1.1\n",
       "Name: 0, dtype: float64"
      ]
     },
     "execution_count": 44,
     "metadata": {},
     "output_type": "execute_result"
    }
   ],
   "execution_count": 44
  },
  {
   "metadata": {
    "ExecuteTime": {
     "end_time": "2024-10-20T12:09:50.967174Z",
     "start_time": "2024-10-20T12:09:50.965046Z"
    }
   },
   "cell_type": "code",
   "source": "df1.loc[0, 's0']  # 取具体的值",
   "id": "547e1fc38ac2d90c",
   "outputs": [
    {
     "data": {
      "text/plain": [
       "1"
      ]
     },
     "execution_count": 45,
     "metadata": {},
     "output_type": "execute_result"
    }
   ],
   "execution_count": 45
  },
  {
   "metadata": {
    "ExecuteTime": {
     "end_time": "2024-10-20T12:09:50.992653Z",
     "start_time": "2024-10-20T12:09:50.990508Z"
    }
   },
   "cell_type": "code",
   "source": "df1.iloc[0, 0]  # iloc必须全部用索引",
   "id": "f5339b19ea4e3b08",
   "outputs": [
    {
     "data": {
      "text/plain": [
       "1"
      ]
     },
     "execution_count": 46,
     "metadata": {},
     "output_type": "execute_result"
    }
   ],
   "execution_count": 46
  },
  {
   "metadata": {
    "ExecuteTime": {
     "end_time": "2024-10-20T12:09:51.022851Z",
     "start_time": "2024-10-20T12:09:51.020717Z"
    }
   },
   "cell_type": "code",
   "source": "df1.at[0, 's0']  # at只能取具体的值，不能取行或列",
   "id": "70631f02789d584c",
   "outputs": [
    {
     "data": {
      "text/plain": [
       "1"
      ]
     },
     "execution_count": 47,
     "metadata": {},
     "output_type": "execute_result"
    }
   ],
   "execution_count": 47
  },
  {
   "metadata": {
    "ExecuteTime": {
     "end_time": "2024-10-20T12:09:51.038971Z",
     "start_time": "2024-10-20T12:09:51.036709Z"
    }
   },
   "cell_type": "code",
   "source": "df1.iat[0, 0]  # iat全部取索引",
   "id": "aeba9aeb61a74979",
   "outputs": [
    {
     "data": {
      "text/plain": [
       "1"
      ]
     },
     "execution_count": 48,
     "metadata": {},
     "output_type": "execute_result"
    }
   ],
   "execution_count": 48
  },
  {
   "metadata": {
    "ExecuteTime": {
     "end_time": "2024-10-20T12:09:51.074603Z",
     "start_time": "2024-10-20T12:09:51.069666Z"
    }
   },
   "cell_type": "code",
   "source": [
    "# bool索引 满足条件的显示，不满足为NaN\n",
    "print(df1[df1 > 1])\n",
    "df1[df1['s0'] > 3]"
   ],
   "id": "e404f3cbc81e57c9",
   "outputs": [
    {
     "name": "stdout",
     "output_type": "stream",
     "text": [
      "    s0   s1\n",
      "0  NaN  1.1\n",
      "1  5.0  1.8\n",
      "2  3.0  1.3\n",
      "3  7.0  1.4\n",
      "4  9.0  1.5\n"
     ]
    },
    {
     "data": {
      "text/plain": [
       "   s0   s1\n",
       "1   5  1.8\n",
       "3   7  1.4\n",
       "4   9  1.5"
      ],
      "text/html": [
       "<div>\n",
       "<style scoped>\n",
       "    .dataframe tbody tr th:only-of-type {\n",
       "        vertical-align: middle;\n",
       "    }\n",
       "\n",
       "    .dataframe tbody tr th {\n",
       "        vertical-align: top;\n",
       "    }\n",
       "\n",
       "    .dataframe thead th {\n",
       "        text-align: right;\n",
       "    }\n",
       "</style>\n",
       "<table border=\"1\" class=\"dataframe\">\n",
       "  <thead>\n",
       "    <tr style=\"text-align: right;\">\n",
       "      <th></th>\n",
       "      <th>s0</th>\n",
       "      <th>s1</th>\n",
       "    </tr>\n",
       "  </thead>\n",
       "  <tbody>\n",
       "    <tr>\n",
       "      <th>1</th>\n",
       "      <td>5</td>\n",
       "      <td>1.8</td>\n",
       "    </tr>\n",
       "    <tr>\n",
       "      <th>3</th>\n",
       "      <td>7</td>\n",
       "      <td>1.4</td>\n",
       "    </tr>\n",
       "    <tr>\n",
       "      <th>4</th>\n",
       "      <td>9</td>\n",
       "      <td>1.5</td>\n",
       "    </tr>\n",
       "  </tbody>\n",
       "</table>\n",
       "</div>"
      ]
     },
     "execution_count": 49,
     "metadata": {},
     "output_type": "execute_result"
    }
   ],
   "execution_count": 49
  },
  {
   "metadata": {
    "ExecuteTime": {
     "end_time": "2024-10-20T12:09:51.133948Z",
     "start_time": "2024-10-20T12:09:51.132252Z"
    }
   },
   "cell_type": "code",
   "source": [
    "# 取值总结\n",
    "# 取列 用 df[名称]，多个用 df1[['s0','s1']]\n",
    "# 取行 用 df[索引]的切片,也可用df.loc[索引]，df.iloc[索引], loc 和iloc区别在于 iloc[索引，索引]，loc[索引，名称]\n",
    "# 取具体值建议用at,iat更加高效"
   ],
   "id": "625a4be3a573041c",
   "outputs": [],
   "execution_count": 50
  },
  {
   "metadata": {
    "ExecuteTime": {
     "end_time": "2024-10-20T12:09:51.158520Z",
     "start_time": "2024-10-20T12:09:51.155077Z"
    }
   },
   "cell_type": "code",
   "source": [
    "# 缺失值\n",
    "df1 = pd.DataFrame({\n",
    "    's0': pd.Series([1, 3, 5, 7, 9]),\n",
    "    's1': pd.Series([1.2, 1.1, 1.3]),\n",
    "})\n",
    "df1"
   ],
   "id": "1555d2cf0e55f361",
   "outputs": [
    {
     "data": {
      "text/plain": [
       "   s0   s1\n",
       "0   1  1.2\n",
       "1   3  1.1\n",
       "2   5  1.3\n",
       "3   7  NaN\n",
       "4   9  NaN"
      ],
      "text/html": [
       "<div>\n",
       "<style scoped>\n",
       "    .dataframe tbody tr th:only-of-type {\n",
       "        vertical-align: middle;\n",
       "    }\n",
       "\n",
       "    .dataframe tbody tr th {\n",
       "        vertical-align: top;\n",
       "    }\n",
       "\n",
       "    .dataframe thead th {\n",
       "        text-align: right;\n",
       "    }\n",
       "</style>\n",
       "<table border=\"1\" class=\"dataframe\">\n",
       "  <thead>\n",
       "    <tr style=\"text-align: right;\">\n",
       "      <th></th>\n",
       "      <th>s0</th>\n",
       "      <th>s1</th>\n",
       "    </tr>\n",
       "  </thead>\n",
       "  <tbody>\n",
       "    <tr>\n",
       "      <th>0</th>\n",
       "      <td>1</td>\n",
       "      <td>1.2</td>\n",
       "    </tr>\n",
       "    <tr>\n",
       "      <th>1</th>\n",
       "      <td>3</td>\n",
       "      <td>1.1</td>\n",
       "    </tr>\n",
       "    <tr>\n",
       "      <th>2</th>\n",
       "      <td>5</td>\n",
       "      <td>1.3</td>\n",
       "    </tr>\n",
       "    <tr>\n",
       "      <th>3</th>\n",
       "      <td>7</td>\n",
       "      <td>NaN</td>\n",
       "    </tr>\n",
       "    <tr>\n",
       "      <th>4</th>\n",
       "      <td>9</td>\n",
       "      <td>NaN</td>\n",
       "    </tr>\n",
       "  </tbody>\n",
       "</table>\n",
       "</div>"
      ]
     },
     "execution_count": 51,
     "metadata": {},
     "output_type": "execute_result"
    }
   ],
   "execution_count": 51
  },
  {
   "metadata": {
    "ExecuteTime": {
     "end_time": "2024-10-20T12:09:51.191206Z",
     "start_time": "2024-10-20T12:09:51.187702Z"
    }
   },
   "cell_type": "code",
   "source": "df1.dropna() #删除缺失值",
   "id": "be371be6b094d67b",
   "outputs": [
    {
     "data": {
      "text/plain": [
       "   s0   s1\n",
       "0   1  1.2\n",
       "1   3  1.1\n",
       "2   5  1.3"
      ],
      "text/html": [
       "<div>\n",
       "<style scoped>\n",
       "    .dataframe tbody tr th:only-of-type {\n",
       "        vertical-align: middle;\n",
       "    }\n",
       "\n",
       "    .dataframe tbody tr th {\n",
       "        vertical-align: top;\n",
       "    }\n",
       "\n",
       "    .dataframe thead th {\n",
       "        text-align: right;\n",
       "    }\n",
       "</style>\n",
       "<table border=\"1\" class=\"dataframe\">\n",
       "  <thead>\n",
       "    <tr style=\"text-align: right;\">\n",
       "      <th></th>\n",
       "      <th>s0</th>\n",
       "      <th>s1</th>\n",
       "    </tr>\n",
       "  </thead>\n",
       "  <tbody>\n",
       "    <tr>\n",
       "      <th>0</th>\n",
       "      <td>1</td>\n",
       "      <td>1.2</td>\n",
       "    </tr>\n",
       "    <tr>\n",
       "      <th>1</th>\n",
       "      <td>3</td>\n",
       "      <td>1.1</td>\n",
       "    </tr>\n",
       "    <tr>\n",
       "      <th>2</th>\n",
       "      <td>5</td>\n",
       "      <td>1.3</td>\n",
       "    </tr>\n",
       "  </tbody>\n",
       "</table>\n",
       "</div>"
      ]
     },
     "execution_count": 52,
     "metadata": {},
     "output_type": "execute_result"
    }
   ],
   "execution_count": 52
  },
  {
   "metadata": {
    "ExecuteTime": {
     "end_time": "2024-10-20T12:09:51.246814Z",
     "start_time": "2024-10-20T12:09:51.243408Z"
    }
   },
   "cell_type": "code",
   "source": "df1.fillna(5) #填充缺失值",
   "id": "d0327ba0c5289dd3",
   "outputs": [
    {
     "data": {
      "text/plain": [
       "   s0   s1\n",
       "0   1  1.2\n",
       "1   3  1.1\n",
       "2   5  1.3\n",
       "3   7  5.0\n",
       "4   9  5.0"
      ],
      "text/html": [
       "<div>\n",
       "<style scoped>\n",
       "    .dataframe tbody tr th:only-of-type {\n",
       "        vertical-align: middle;\n",
       "    }\n",
       "\n",
       "    .dataframe tbody tr th {\n",
       "        vertical-align: top;\n",
       "    }\n",
       "\n",
       "    .dataframe thead th {\n",
       "        text-align: right;\n",
       "    }\n",
       "</style>\n",
       "<table border=\"1\" class=\"dataframe\">\n",
       "  <thead>\n",
       "    <tr style=\"text-align: right;\">\n",
       "      <th></th>\n",
       "      <th>s0</th>\n",
       "      <th>s1</th>\n",
       "    </tr>\n",
       "  </thead>\n",
       "  <tbody>\n",
       "    <tr>\n",
       "      <th>0</th>\n",
       "      <td>1</td>\n",
       "      <td>1.2</td>\n",
       "    </tr>\n",
       "    <tr>\n",
       "      <th>1</th>\n",
       "      <td>3</td>\n",
       "      <td>1.1</td>\n",
       "    </tr>\n",
       "    <tr>\n",
       "      <th>2</th>\n",
       "      <td>5</td>\n",
       "      <td>1.3</td>\n",
       "    </tr>\n",
       "    <tr>\n",
       "      <th>3</th>\n",
       "      <td>7</td>\n",
       "      <td>5.0</td>\n",
       "    </tr>\n",
       "    <tr>\n",
       "      <th>4</th>\n",
       "      <td>9</td>\n",
       "      <td>5.0</td>\n",
       "    </tr>\n",
       "  </tbody>\n",
       "</table>\n",
       "</div>"
      ]
     },
     "execution_count": 53,
     "metadata": {},
     "output_type": "execute_result"
    }
   ],
   "execution_count": 53
  },
  {
   "metadata": {
    "ExecuteTime": {
     "end_time": "2024-10-20T12:09:51.283840Z",
     "start_time": "2024-10-20T12:09:51.280684Z"
    }
   },
   "cell_type": "code",
   "source": "df1.ffill() #就近填充",
   "id": "a08e8a928ac8b9aa",
   "outputs": [
    {
     "data": {
      "text/plain": [
       "   s0   s1\n",
       "0   1  1.2\n",
       "1   3  1.1\n",
       "2   5  1.3\n",
       "3   7  1.3\n",
       "4   9  1.3"
      ],
      "text/html": [
       "<div>\n",
       "<style scoped>\n",
       "    .dataframe tbody tr th:only-of-type {\n",
       "        vertical-align: middle;\n",
       "    }\n",
       "\n",
       "    .dataframe tbody tr th {\n",
       "        vertical-align: top;\n",
       "    }\n",
       "\n",
       "    .dataframe thead th {\n",
       "        text-align: right;\n",
       "    }\n",
       "</style>\n",
       "<table border=\"1\" class=\"dataframe\">\n",
       "  <thead>\n",
       "    <tr style=\"text-align: right;\">\n",
       "      <th></th>\n",
       "      <th>s0</th>\n",
       "      <th>s1</th>\n",
       "    </tr>\n",
       "  </thead>\n",
       "  <tbody>\n",
       "    <tr>\n",
       "      <th>0</th>\n",
       "      <td>1</td>\n",
       "      <td>1.2</td>\n",
       "    </tr>\n",
       "    <tr>\n",
       "      <th>1</th>\n",
       "      <td>3</td>\n",
       "      <td>1.1</td>\n",
       "    </tr>\n",
       "    <tr>\n",
       "      <th>2</th>\n",
       "      <td>5</td>\n",
       "      <td>1.3</td>\n",
       "    </tr>\n",
       "    <tr>\n",
       "      <th>3</th>\n",
       "      <td>7</td>\n",
       "      <td>1.3</td>\n",
       "    </tr>\n",
       "    <tr>\n",
       "      <th>4</th>\n",
       "      <td>9</td>\n",
       "      <td>1.3</td>\n",
       "    </tr>\n",
       "  </tbody>\n",
       "</table>\n",
       "</div>"
      ]
     },
     "execution_count": 54,
     "metadata": {},
     "output_type": "execute_result"
    }
   ],
   "execution_count": 54
  },
  {
   "metadata": {
    "ExecuteTime": {
     "end_time": "2024-10-20T12:09:51.339562Z",
     "start_time": "2024-10-20T12:09:51.337616Z"
    }
   },
   "cell_type": "code",
   "source": [
    "# 统计  mean()均值，max()  min() \n",
    "print(df1['s0'].max())\n",
    "print(df1['s0'].min())\n",
    "print(df1['s0'].mean())\n"
   ],
   "id": "bb6814bce36c041b",
   "outputs": [
    {
     "name": "stdout",
     "output_type": "stream",
     "text": [
      "9\n",
      "1\n",
      "5.0\n"
     ]
    }
   ],
   "execution_count": 55
  },
  {
   "metadata": {
    "ExecuteTime": {
     "end_time": "2024-10-20T12:09:51.391056Z",
     "start_time": "2024-10-20T12:09:51.388457Z"
    }
   },
   "cell_type": "code",
   "source": [
    "# 窗口函数\n",
    "df1['s0'].rolling(3).mean() #s0的3天移动平均"
   ],
   "id": "e53777e51d9c8842",
   "outputs": [
    {
     "data": {
      "text/plain": [
       "0    NaN\n",
       "1    NaN\n",
       "2    3.0\n",
       "3    5.0\n",
       "4    7.0\n",
       "Name: s0, dtype: float64"
      ]
     },
     "execution_count": 56,
     "metadata": {},
     "output_type": "execute_result"
    }
   ],
   "execution_count": 56
  },
  {
   "metadata": {
    "ExecuteTime": {
     "end_time": "2024-10-20T12:09:51.444807Z",
     "start_time": "2024-10-20T12:09:51.441715Z"
    }
   },
   "cell_type": "code",
   "source": [
    "# Apply函数\n",
    "df1['s0'].apply(lambda x: x*2)"
   ],
   "id": "1a96a8f6d44cbe8f",
   "outputs": [
    {
     "data": {
      "text/plain": [
       "0     2\n",
       "1     6\n",
       "2    10\n",
       "3    14\n",
       "4    18\n",
       "Name: s0, dtype: int64"
      ]
     },
     "execution_count": 57,
     "metadata": {},
     "output_type": "execute_result"
    }
   ],
   "execution_count": 57
  },
  {
   "metadata": {
    "ExecuteTime": {
     "end_time": "2024-10-20T12:09:51.489172Z",
     "start_time": "2024-10-20T12:09:51.483371Z"
    }
   },
   "cell_type": "code",
   "source": [
    "# 合并方法 concat\n",
    "df2 = pd.DataFrame({\n",
    "    's1': pd.Series([1, 3, 5,]),\n",
    "    's3': pd.Series([1.1, 1.8, 1.3]),\n",
    "})\n",
    "pd.concat([df1,df2])"
   ],
   "id": "466a9bd96ebc1453",
   "outputs": [
    {
     "data": {
      "text/plain": [
       "    s0   s1   s3\n",
       "0  1.0  1.2  NaN\n",
       "1  3.0  1.1  NaN\n",
       "2  5.0  1.3  NaN\n",
       "3  7.0  NaN  NaN\n",
       "4  9.0  NaN  NaN\n",
       "0  NaN  1.0  1.1\n",
       "1  NaN  3.0  1.8\n",
       "2  NaN  5.0  1.3"
      ],
      "text/html": [
       "<div>\n",
       "<style scoped>\n",
       "    .dataframe tbody tr th:only-of-type {\n",
       "        vertical-align: middle;\n",
       "    }\n",
       "\n",
       "    .dataframe tbody tr th {\n",
       "        vertical-align: top;\n",
       "    }\n",
       "\n",
       "    .dataframe thead th {\n",
       "        text-align: right;\n",
       "    }\n",
       "</style>\n",
       "<table border=\"1\" class=\"dataframe\">\n",
       "  <thead>\n",
       "    <tr style=\"text-align: right;\">\n",
       "      <th></th>\n",
       "      <th>s0</th>\n",
       "      <th>s1</th>\n",
       "      <th>s3</th>\n",
       "    </tr>\n",
       "  </thead>\n",
       "  <tbody>\n",
       "    <tr>\n",
       "      <th>0</th>\n",
       "      <td>1.0</td>\n",
       "      <td>1.2</td>\n",
       "      <td>NaN</td>\n",
       "    </tr>\n",
       "    <tr>\n",
       "      <th>1</th>\n",
       "      <td>3.0</td>\n",
       "      <td>1.1</td>\n",
       "      <td>NaN</td>\n",
       "    </tr>\n",
       "    <tr>\n",
       "      <th>2</th>\n",
       "      <td>5.0</td>\n",
       "      <td>1.3</td>\n",
       "      <td>NaN</td>\n",
       "    </tr>\n",
       "    <tr>\n",
       "      <th>3</th>\n",
       "      <td>7.0</td>\n",
       "      <td>NaN</td>\n",
       "      <td>NaN</td>\n",
       "    </tr>\n",
       "    <tr>\n",
       "      <th>4</th>\n",
       "      <td>9.0</td>\n",
       "      <td>NaN</td>\n",
       "      <td>NaN</td>\n",
       "    </tr>\n",
       "    <tr>\n",
       "      <th>0</th>\n",
       "      <td>NaN</td>\n",
       "      <td>1.0</td>\n",
       "      <td>1.1</td>\n",
       "    </tr>\n",
       "    <tr>\n",
       "      <th>1</th>\n",
       "      <td>NaN</td>\n",
       "      <td>3.0</td>\n",
       "      <td>1.8</td>\n",
       "    </tr>\n",
       "    <tr>\n",
       "      <th>2</th>\n",
       "      <td>NaN</td>\n",
       "      <td>5.0</td>\n",
       "      <td>1.3</td>\n",
       "    </tr>\n",
       "  </tbody>\n",
       "</table>\n",
       "</div>"
      ]
     },
     "execution_count": 58,
     "metadata": {},
     "output_type": "execute_result"
    }
   ],
   "execution_count": 58
  },
  {
   "metadata": {
    "ExecuteTime": {
     "end_time": "2024-10-20T12:09:51.541123Z",
     "start_time": "2024-10-20T12:09:51.536810Z"
    }
   },
   "cell_type": "code",
   "source": [
    "# 合并方法 merge\n",
    "pd.merge(df1, df2, on='s1', how='left')"
   ],
   "id": "3a50c0c8ff7977a6",
   "outputs": [
    {
     "data": {
      "text/plain": [
       "   s0   s1  s3\n",
       "0   1  1.2 NaN\n",
       "1   3  1.1 NaN\n",
       "2   5  1.3 NaN\n",
       "3   7  NaN NaN\n",
       "4   9  NaN NaN"
      ],
      "text/html": [
       "<div>\n",
       "<style scoped>\n",
       "    .dataframe tbody tr th:only-of-type {\n",
       "        vertical-align: middle;\n",
       "    }\n",
       "\n",
       "    .dataframe tbody tr th {\n",
       "        vertical-align: top;\n",
       "    }\n",
       "\n",
       "    .dataframe thead th {\n",
       "        text-align: right;\n",
       "    }\n",
       "</style>\n",
       "<table border=\"1\" class=\"dataframe\">\n",
       "  <thead>\n",
       "    <tr style=\"text-align: right;\">\n",
       "      <th></th>\n",
       "      <th>s0</th>\n",
       "      <th>s1</th>\n",
       "      <th>s3</th>\n",
       "    </tr>\n",
       "  </thead>\n",
       "  <tbody>\n",
       "    <tr>\n",
       "      <th>0</th>\n",
       "      <td>1</td>\n",
       "      <td>1.2</td>\n",
       "      <td>NaN</td>\n",
       "    </tr>\n",
       "    <tr>\n",
       "      <th>1</th>\n",
       "      <td>3</td>\n",
       "      <td>1.1</td>\n",
       "      <td>NaN</td>\n",
       "    </tr>\n",
       "    <tr>\n",
       "      <th>2</th>\n",
       "      <td>5</td>\n",
       "      <td>1.3</td>\n",
       "      <td>NaN</td>\n",
       "    </tr>\n",
       "    <tr>\n",
       "      <th>3</th>\n",
       "      <td>7</td>\n",
       "      <td>NaN</td>\n",
       "      <td>NaN</td>\n",
       "    </tr>\n",
       "    <tr>\n",
       "      <th>4</th>\n",
       "      <td>9</td>\n",
       "      <td>NaN</td>\n",
       "      <td>NaN</td>\n",
       "    </tr>\n",
       "  </tbody>\n",
       "</table>\n",
       "</div>"
      ]
     },
     "execution_count": 59,
     "metadata": {},
     "output_type": "execute_result"
    }
   ],
   "execution_count": 59
  },
  {
   "metadata": {
    "ExecuteTime": {
     "end_time": "2024-10-20T12:09:51.596925Z",
     "start_time": "2024-10-20T12:09:51.593295Z"
    }
   },
   "cell_type": "code",
   "source": [
    "# 迭代\n",
    "for i,(index,row) in enumerate(df.loc[0:100].iterrows()):\n",
    "    print(i,index,row['close'])"
   ],
   "id": "65564eea19b2e188",
   "outputs": [
    {
     "name": "stdout",
     "output_type": "stream",
     "text": [
      "0 0 16595.81\n",
      "1 1 16596.2\n",
      "2 2 16596.62\n",
      "3 3 16592.96\n",
      "4 4 16591.91\n",
      "5 5 16591.93\n",
      "6 6 16591.96\n",
      "7 7 16592.51\n",
      "8 8 16592.94\n",
      "9 9 16592.91\n",
      "10 10 16592.77\n",
      "11 11 16592.53\n",
      "12 12 16593.02\n",
      "13 13 16592.15\n",
      "14 14 16592.89\n",
      "15 15 16586.78\n",
      "16 16 16586.0\n",
      "17 17 16584.88\n",
      "18 18 16587.3\n",
      "19 19 16590.84\n",
      "20 20 16595.38\n",
      "21 21 16597.56\n",
      "22 22 16600.32\n",
      "23 23 16600.09\n",
      "24 24 16601.32\n",
      "25 25 16602.0\n",
      "26 26 16603.32\n",
      "27 27 16603.92\n",
      "28 28 16601.75\n",
      "29 29 16602.22\n",
      "30 30 16601.05\n",
      "31 31 16602.54\n",
      "32 32 16602.66\n",
      "33 33 16602.25\n",
      "34 34 16600.51\n",
      "35 35 16601.63\n",
      "36 36 16597.68\n",
      "37 37 16597.72\n",
      "38 38 16595.74\n",
      "39 39 16595.58\n",
      "40 40 16598.61\n",
      "41 41 16599.09\n",
      "42 42 16595.83\n",
      "43 43 16597.43\n",
      "44 44 16596.92\n",
      "45 45 16597.06\n",
      "46 46 16596.95\n",
      "47 47 16596.57\n",
      "48 48 16595.64\n",
      "49 49 16595.65\n",
      "50 50 16603.18\n",
      "51 51 16603.02\n",
      "52 52 16603.16\n",
      "53 53 16609.34\n",
      "54 54 16610.73\n",
      "55 55 16603.49\n",
      "56 56 16605.01\n",
      "57 57 16604.41\n",
      "58 58 16603.41\n",
      "59 59 16600.39\n",
      "60 60 16602.17\n",
      "61 61 16603.11\n",
      "62 62 16603.05\n",
      "63 63 16600.57\n",
      "64 64 16601.56\n",
      "65 65 16601.37\n",
      "66 66 16599.03\n",
      "67 67 16601.68\n",
      "68 68 16599.66\n",
      "69 69 16601.27\n",
      "70 70 16600.01\n",
      "71 71 16596.75\n",
      "72 72 16586.5\n",
      "73 73 16581.84\n",
      "74 74 16583.99\n",
      "75 75 16584.28\n",
      "76 76 16586.81\n",
      "77 77 16591.54\n",
      "78 78 16585.73\n",
      "79 79 16578.32\n",
      "80 80 16579.48\n",
      "81 81 16582.01\n",
      "82 82 16579.75\n",
      "83 83 16583.42\n",
      "84 84 16580.74\n",
      "85 85 16581.26\n",
      "86 86 16581.84\n",
      "87 87 16581.45\n",
      "88 88 16581.57\n",
      "89 89 16583.43\n",
      "90 90 16578.84\n",
      "91 91 16580.15\n",
      "92 92 16580.91\n",
      "93 93 16581.34\n",
      "94 94 16582.78\n",
      "95 95 16582.21\n",
      "96 96 16582.05\n",
      "97 97 16581.54\n",
      "98 98 16581.68\n",
      "99 99 16580.99\n",
      "100 100 16582.48\n"
     ]
    }
   ],
   "execution_count": 60
  },
  {
   "metadata": {
    "ExecuteTime": {
     "end_time": "2024-10-20T12:09:51.679815Z",
     "start_time": "2024-10-20T12:09:51.678369Z"
    }
   },
   "cell_type": "code",
   "source": "",
   "id": "b38ad5e3f9f80564",
   "outputs": [],
   "execution_count": null
  }
 ],
 "metadata": {
  "kernelspec": {
   "display_name": "Python 3",
   "language": "python",
   "name": "python3"
  },
  "language_info": {
   "codemirror_mode": {
    "name": "ipython",
    "version": 2
   },
   "file_extension": ".py",
   "mimetype": "text/x-python",
   "name": "python",
   "nbconvert_exporter": "python",
   "pygments_lexer": "ipython2",
   "version": "2.7.6"
  }
 },
 "nbformat": 4,
 "nbformat_minor": 5
}
